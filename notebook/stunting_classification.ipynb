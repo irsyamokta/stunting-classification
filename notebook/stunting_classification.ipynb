{
  "cells": [
    {
      "cell_type": "markdown",
      "metadata": {},
      "source": [
        "Import Library & Package"
      ]
    },
    {
      "cell_type": "code",
      "execution_count": 54,
      "metadata": {
        "id": "WSPDVeAf5D39"
      },
      "outputs": [],
      "source": [
        "import pandas as pd\n",
        "import matplotlib.pyplot as plt\n",
        "import joblib\n",
        "import seaborn as sns\n",
        "\n",
        "from sklearn.model_selection import train_test_split\n",
        "from sklearn.preprocessing import LabelEncoder, label_binarize\n",
        "from imblearn.over_sampling import SMOTE\n",
        "from collections import Counter\n",
        "from sklearn.ensemble import RandomForestClassifier\n",
        "from sklearn.neighbors import KNeighborsClassifier\n",
        "from sklearn.svm import SVC\n",
        "from sklearn.metrics import accuracy_score, classification_report, roc_curve, auc"
      ]
    },
    {
      "cell_type": "markdown",
      "metadata": {},
      "source": [
        "Data Understanding"
      ]
    },
    {
      "cell_type": "code",
      "execution_count": 55,
      "metadata": {
        "colab": {
          "base_uri": "https://localhost:8080/",
          "height": 363
        },
        "id": "uyBR64t-5Q2G",
        "outputId": "e3309573-f29e-4d67-f4f0-b165f15fa805"
      },
      "outputs": [
        {
          "data": {
            "text/html": [
              "<div>\n",
              "<style scoped>\n",
              "    .dataframe tbody tr th:only-of-type {\n",
              "        vertical-align: middle;\n",
              "    }\n",
              "\n",
              "    .dataframe tbody tr th {\n",
              "        vertical-align: top;\n",
              "    }\n",
              "\n",
              "    .dataframe thead th {\n",
              "        text-align: right;\n",
              "    }\n",
              "</style>\n",
              "<table border=\"1\" class=\"dataframe\">\n",
              "  <thead>\n",
              "    <tr style=\"text-align: right;\">\n",
              "      <th></th>\n",
              "      <th>Umur (bulan)</th>\n",
              "      <th>Jenis Kelamin</th>\n",
              "      <th>Tinggi Badan (cm)</th>\n",
              "      <th>Status Gizi</th>\n",
              "    </tr>\n",
              "  </thead>\n",
              "  <tbody>\n",
              "    <tr>\n",
              "      <th>0</th>\n",
              "      <td>0</td>\n",
              "      <td>laki-laki</td>\n",
              "      <td>44.591973</td>\n",
              "      <td>stunted</td>\n",
              "    </tr>\n",
              "    <tr>\n",
              "      <th>1</th>\n",
              "      <td>0</td>\n",
              "      <td>laki-laki</td>\n",
              "      <td>56.705203</td>\n",
              "      <td>tinggi</td>\n",
              "    </tr>\n",
              "    <tr>\n",
              "      <th>2</th>\n",
              "      <td>0</td>\n",
              "      <td>laki-laki</td>\n",
              "      <td>46.863358</td>\n",
              "      <td>normal</td>\n",
              "    </tr>\n",
              "    <tr>\n",
              "      <th>3</th>\n",
              "      <td>0</td>\n",
              "      <td>laki-laki</td>\n",
              "      <td>47.508026</td>\n",
              "      <td>normal</td>\n",
              "    </tr>\n",
              "    <tr>\n",
              "      <th>4</th>\n",
              "      <td>0</td>\n",
              "      <td>laki-laki</td>\n",
              "      <td>42.743494</td>\n",
              "      <td>severely stunted</td>\n",
              "    </tr>\n",
              "    <tr>\n",
              "      <th>5</th>\n",
              "      <td>0</td>\n",
              "      <td>laki-laki</td>\n",
              "      <td>44.257719</td>\n",
              "      <td>stunted</td>\n",
              "    </tr>\n",
              "    <tr>\n",
              "      <th>6</th>\n",
              "      <td>0</td>\n",
              "      <td>laki-laki</td>\n",
              "      <td>59.572523</td>\n",
              "      <td>tinggi</td>\n",
              "    </tr>\n",
              "    <tr>\n",
              "      <th>7</th>\n",
              "      <td>0</td>\n",
              "      <td>laki-laki</td>\n",
              "      <td>42.701796</td>\n",
              "      <td>severely stunted</td>\n",
              "    </tr>\n",
              "    <tr>\n",
              "      <th>8</th>\n",
              "      <td>0</td>\n",
              "      <td>laki-laki</td>\n",
              "      <td>45.251779</td>\n",
              "      <td>stunted</td>\n",
              "    </tr>\n",
              "    <tr>\n",
              "      <th>9</th>\n",
              "      <td>0</td>\n",
              "      <td>laki-laki</td>\n",
              "      <td>57.201961</td>\n",
              "      <td>tinggi</td>\n",
              "    </tr>\n",
              "  </tbody>\n",
              "</table>\n",
              "</div>"
            ],
            "text/plain": [
              "   Umur (bulan) Jenis Kelamin  Tinggi Badan (cm)       Status Gizi\n",
              "0             0     laki-laki          44.591973           stunted\n",
              "1             0     laki-laki          56.705203            tinggi\n",
              "2             0     laki-laki          46.863358            normal\n",
              "3             0     laki-laki          47.508026            normal\n",
              "4             0     laki-laki          42.743494  severely stunted\n",
              "5             0     laki-laki          44.257719           stunted\n",
              "6             0     laki-laki          59.572523            tinggi\n",
              "7             0     laki-laki          42.701796  severely stunted\n",
              "8             0     laki-laki          45.251779           stunted\n",
              "9             0     laki-laki          57.201961            tinggi"
            ]
          },
          "execution_count": 55,
          "metadata": {},
          "output_type": "execute_result"
        }
      ],
      "source": [
        "# Memuat Dataset\n",
        "\n",
        "file_path = \"../dataset/data_balita.csv\"\n",
        "df = pd.read_csv(file_path)\n",
        "df.head(10)"
      ]
    },
    {
      "cell_type": "code",
      "execution_count": 56,
      "metadata": {},
      "outputs": [
        {
          "name": "stdout",
          "output_type": "stream",
          "text": [
            "Jumlah data dalam dataset: 120999\n"
          ]
        }
      ],
      "source": [
        "# Mengecek Jumlah Data dalam dataset\n",
        "\n",
        "total = df.shape[0]\n",
        "print(f\"Jumlah data dalam dataset: {total}\")"
      ]
    },
    {
      "cell_type": "code",
      "execution_count": 57,
      "metadata": {},
      "outputs": [
        {
          "data": {
            "text/plain": [
              "Umur (bulan)         0\n",
              "Jenis Kelamin        0\n",
              "Tinggi Badan (cm)    0\n",
              "Status Gizi          0\n",
              "dtype: int64"
            ]
          },
          "execution_count": 57,
          "metadata": {},
          "output_type": "execute_result"
        }
      ],
      "source": [
        "# Mengecek Missing Value\n",
        "\n",
        "df.isna().sum()"
      ]
    },
    {
      "cell_type": "code",
      "execution_count": 58,
      "metadata": {},
      "outputs": [
        {
          "name": "stdout",
          "output_type": "stream",
          "text": [
            "Jumlah outlier yang terdeteksi:\n",
            "Umur (bulan): IQR = 0\n",
            "Tinggi Badan (cm): IQR = 38\n"
          ]
        }
      ],
      "source": [
        "# Mengecek Outliers\n",
        "\n",
        "def detect_outliers_iqr(data, column):\n",
        "    Q1 = data[column].quantile(0.25)\n",
        "    Q3 = data[column].quantile(0.75)\n",
        "    IQR = Q3 - Q1\n",
        "    lower_bound = Q1 - 1.5 * IQR\n",
        "    upper_bound = Q3 + 1.5 * IQR\n",
        "    outliers = data[(data[column] < lower_bound) | (data[column] > upper_bound)]\n",
        "    return outliers\n",
        "\n",
        "numerical_columns = [\"Umur (bulan)\", \"Tinggi Badan (cm)\"]\n",
        "outliers_iqr = {col: detect_outliers_iqr(df, col) for col in numerical_columns}\n",
        "outlier_counts = {col: {\"IQR\": len(outliers_iqr[col])} for col in numerical_columns}\n",
        "\n",
        "print(\"Jumlah outlier yang terdeteksi:\")\n",
        "for col, counts in outlier_counts.items():\n",
        "    print(f\"{col}: IQR = {counts['IQR']}\")"
      ]
    },
    {
      "cell_type": "code",
      "execution_count": 59,
      "metadata": {},
      "outputs": [
        {
          "name": "stdout",
          "output_type": "stream",
          "text": [
            "<class 'pandas.core.frame.DataFrame'>\n",
            "RangeIndex: 120999 entries, 0 to 120998\n",
            "Data columns (total 4 columns):\n",
            " #   Column             Non-Null Count   Dtype  \n",
            "---  ------             --------------   -----  \n",
            " 0   Umur (bulan)       120999 non-null  int64  \n",
            " 1   Jenis Kelamin      120999 non-null  object \n",
            " 2   Tinggi Badan (cm)  120999 non-null  float64\n",
            " 3   Status Gizi        120999 non-null  object \n",
            "dtypes: float64(1), int64(1), object(2)\n",
            "memory usage: 3.7+ MB\n"
          ]
        }
      ],
      "source": [
        "# Mengecek Tipe Data\n",
        "\n",
        "df.info()"
      ]
    },
    {
      "cell_type": "code",
      "execution_count": 60,
      "metadata": {
        "colab": {
          "base_uri": "https://localhost:8080/",
          "height": 505
        },
        "id": "JWib-rTh_XM7",
        "outputId": "51bee24d-4055-4707-b93b-d5b68d559b5f"
      },
      "outputs": [
        {
          "name": "stderr",
          "output_type": "stream",
          "text": [
            "C:\\Users\\ASUS\\AppData\\Local\\Temp\\ipykernel_1976\\252841777.py:8: FutureWarning: \n",
            "\n",
            "Passing `palette` without assigning `hue` is deprecated and will be removed in v0.14.0. Assign the `x` variable to `hue` and set `legend=False` for the same effect.\n",
            "\n",
            "  ax = sns.barplot(x=gender_counts.index, y=gender_counts.values, palette=\"colorblind\")\n",
            "C:\\Users\\ASUS\\AppData\\Local\\Temp\\ipykernel_1976\\252841777.py:11: FutureWarning: Series.__getitem__ treating keys as positions is deprecated. In a future version, integer keys will always be treated as labels (consistent with DataFrame behavior). To access a value by position, use `ser.iloc[pos]`\n",
            "  percentage = gender_percentages[i]\n"
          ]
        },
        {
          "data": {
            "image/png": "[encoded data removed]",
            "text/plain": [
              "<Figure size 600x400 with 1 Axes>"
            ]
          },
          "metadata": {},
          "output_type": "display_data"
        }
      ],
      "source": [
        "# Visualisasi Jumlah dan Persentase Jenis Kelamin\n",
        "\n",
        "gender_counts = df[\"Jenis Kelamin\"].value_counts()\n",
        "total_data = len(df)\n",
        "gender_percentages = (gender_counts / total_data) * 100\n",
        "\n",
        "plt.figure(figsize=(6, 4))\n",
        "ax = sns.barplot(x=gender_counts.index, y=gender_counts.values, palette=\"colorblind\")\n",
        "\n",
        "for i, v in enumerate(gender_counts.values):\n",
        "    percentage = gender_percentages[i]\n",
        "    offset = max(0.02 * v, 2)\n",
        "    ax.text(i, v + offset, f\"{v} ({percentage:.1f}%)\", ha='center', fontsize=8)\n",
        "\n",
        "plt.xlabel(\"Jenis Kelamin\")\n",
        "plt.ylabel(\"Jumlah\")\n",
        "plt.show()"
      ]
    },
    {
      "cell_type": "code",
      "execution_count": 61,
      "metadata": {
        "colab": {
          "base_uri": "https://localhost:8080/",
          "height": 565
        },
        "id": "RvhxwwE7_Y3l",
        "outputId": "e01129d7-d69d-468c-a27e-23d026df8fd1"
      },
      "outputs": [
        {
          "name": "stderr",
          "output_type": "stream",
          "text": [
            "C:\\Users\\ASUS\\AppData\\Local\\Temp\\ipykernel_1976\\3146310614.py:8: FutureWarning: \n",
            "\n",
            "Passing `palette` without assigning `hue` is deprecated and will be removed in v0.14.0. Assign the `x` variable to `hue` and set `legend=False` for the same effect.\n",
            "\n",
            "  ax = sns.barplot(x=status_counts.index, y=status_counts.values, palette=\"viridis\")\n",
            "C:\\Users\\ASUS\\AppData\\Local\\Temp\\ipykernel_1976\\3146310614.py:11: FutureWarning: Series.__getitem__ treating keys as positions is deprecated. In a future version, integer keys will always be treated as labels (consistent with DataFrame behavior). To access a value by position, use `ser.iloc[pos]`\n",
            "  percentage = status_percentages[i]\n"
          ]
        },
        {
          "data": {
            "image/png": "[encoded data removed]",
            "text/plain": [
              "<Figure size 600x400 with 1 Axes>"
            ]
          },
          "metadata": {},
          "output_type": "display_data"
        }
      ],
      "source": [
        "# Visualisasi jumlah Status Gizi\n",
        "\n",
        "status_counts = df[\"Status Gizi\"].value_counts()\n",
        "total_data = len(df)\n",
        "status_percentages = (status_counts / total_data) * 100\n",
        "\n",
        "plt.figure(figsize=(6, 4))\n",
        "ax = sns.barplot(x=status_counts.index, y=status_counts.values, palette=\"viridis\")\n",
        "\n",
        "for i, v in enumerate(status_counts.values):\n",
        "    percentage = status_percentages[i]\n",
        "    offset = max(0.02 * v, 1)\n",
        "    ax.text(i, v + offset, f\"{v} ({percentage:.1f}%)\", ha='center', fontsize=8)\n",
        "\n",
        "plt.xlabel(\"Status Gizi\")\n",
        "plt.ylabel(\"Jumlah\")\n",
        "plt.show()"
      ]
    },
    {
      "cell_type": "code",
      "execution_count": 62,
      "metadata": {
        "colab": {
          "base_uri": "https://localhost:8080/",
          "height": 582
        },
        "id": "_mu6rbzWA24H",
        "outputId": "28a555b7-6fec-4e4f-b574-bb6c11ae073b"
      },
      "outputs": [
        {
          "data": {
            "image/png": "[encoded data removed]",
            "text/plain": [
              "<Figure size 800x600 with 1 Axes>"
            ]
          },
          "metadata": {},
          "output_type": "display_data"
        }
      ],
      "source": [
        "# Visualisasi Jumlah Status Gizi Berdasarkan Jenis Kelamin\n",
        "\n",
        "gender_status_counts = df.groupby(\"Jenis Kelamin\")[\"Status Gizi\"].value_counts().unstack()\n",
        "gender_totals = df[\"Jenis Kelamin\"].value_counts()\n",
        "\n",
        "plt.figure(figsize=(8, 6))\n",
        "ax = sns.countplot(x=\"Jenis Kelamin\", hue=\"Status Gizi\", data=df, palette=\"colorblind\")\n",
        "\n",
        "for container in ax.containers:\n",
        "    for bar in container:\n",
        "        height = bar.get_height()\n",
        "        if height > 0:\n",
        "            x_pos = bar.get_x() + bar.get_width() / 2 \n",
        "            ax.text(x_pos, height + 0.01 * max(gender_totals), f\"{int(height)}\",\n",
        "                    ha='center', fontsize=8, color='black')\n",
        "\n",
        "plt.xlabel(\"Jenis Kelamin\")\n",
        "plt.ylabel(\"Jumlah\")\n",
        "plt.legend(title=\"Status Gizi\", loc='upper left', fontsize=8)\n",
        "plt.show()\n"
      ]
    },
    {
      "cell_type": "markdown",
      "metadata": {},
      "source": [
        "Data Preparation"
      ]
    },
    {
      "cell_type": "code",
      "execution_count": 63,
      "metadata": {},
      "outputs": [
        {
          "name": "stdout",
          "output_type": "stream",
          "text": [
            "Jumlah data setelah menghapus outlier: 120961\n"
          ]
        }
      ],
      "source": [
        "# Pembersihan Data - Menghapus Outliers\n",
        "\n",
        "def remove_outliers_iqr(data, column):\n",
        "    Q1 = data[column].quantile(0.25)\n",
        "    Q3 = data[column].quantile(0.75)\n",
        "    IQR = Q3 - Q1\n",
        "    lower_bound = Q1 - 1.5 * IQR\n",
        "    upper_bound = Q3 + 1.5 * IQR\n",
        "    return data[(data[column] >= lower_bound) & (data[column] <= upper_bound)]\n",
        "\n",
        "df_cleaned = df.copy()\n",
        "for col in numerical_columns:\n",
        "    df_cleaned = remove_outliers_iqr(df_cleaned, col)\n",
        "\n",
        "print(f\"Jumlah data setelah menghapus outlier: {len(df_cleaned)}\")"
      ]
    },
    {
      "cell_type": "code",
      "execution_count": 64,
      "metadata": {},
      "outputs": [],
      "source": [
        "# Mengubah Jenis Kelamin dan Status Gizi Menjadi Numerik\n",
        "\n",
        "label_encoders = {}\n",
        "for col in [\"Jenis Kelamin\", \"Status Gizi\"]:\n",
        "    le = LabelEncoder()\n",
        "    df[col] = le.fit_transform(df[col])\n",
        "    label_encoders[col] = le"
      ]
    },
    {
      "cell_type": "code",
      "execution_count": 67,
      "metadata": {},
      "outputs": [
        {
          "name": "stdout",
          "output_type": "stream",
          "text": [
            "Label Encoders berhasil disimpan\n"
          ]
        }
      ],
      "source": [
        "# Simpan Label Encoders\n",
        "\n",
        "joblib.dump(label_encoders, \"../utils/label_encoders.pkl\")\n",
        "print(\"Label Encoders berhasil disimpan\")"
      ]
    },
    {
      "cell_type": "code",
      "execution_count": 68,
      "metadata": {},
      "outputs": [
        {
          "data": {
            "text/html": [
              "<div>\n",
              "<style scoped>\n",
              "    .dataframe tbody tr th:only-of-type {\n",
              "        vertical-align: middle;\n",
              "    }\n",
              "\n",
              "    .dataframe tbody tr th {\n",
              "        vertical-align: top;\n",
              "    }\n",
              "\n",
              "    .dataframe thead th {\n",
              "        text-align: right;\n",
              "    }\n",
              "</style>\n",
              "<table border=\"1\" class=\"dataframe\">\n",
              "  <thead>\n",
              "    <tr style=\"text-align: right;\">\n",
              "      <th></th>\n",
              "      <th>Umur (bulan)</th>\n",
              "      <th>Jenis Kelamin</th>\n",
              "      <th>Tinggi Badan (cm)</th>\n",
              "      <th>Status Gizi</th>\n",
              "    </tr>\n",
              "  </thead>\n",
              "  <tbody>\n",
              "    <tr>\n",
              "      <th>0</th>\n",
              "      <td>0</td>\n",
              "      <td>0</td>\n",
              "      <td>44.591973</td>\n",
              "      <td>2</td>\n",
              "    </tr>\n",
              "    <tr>\n",
              "      <th>1</th>\n",
              "      <td>0</td>\n",
              "      <td>0</td>\n",
              "      <td>56.705203</td>\n",
              "      <td>3</td>\n",
              "    </tr>\n",
              "    <tr>\n",
              "      <th>2</th>\n",
              "      <td>0</td>\n",
              "      <td>0</td>\n",
              "      <td>46.863358</td>\n",
              "      <td>0</td>\n",
              "    </tr>\n",
              "    <tr>\n",
              "      <th>3</th>\n",
              "      <td>0</td>\n",
              "      <td>0</td>\n",
              "      <td>47.508026</td>\n",
              "      <td>0</td>\n",
              "    </tr>\n",
              "    <tr>\n",
              "      <th>4</th>\n",
              "      <td>0</td>\n",
              "      <td>0</td>\n",
              "      <td>42.743494</td>\n",
              "      <td>1</td>\n",
              "    </tr>\n",
              "    <tr>\n",
              "      <th>5</th>\n",
              "      <td>0</td>\n",
              "      <td>0</td>\n",
              "      <td>44.257719</td>\n",
              "      <td>2</td>\n",
              "    </tr>\n",
              "    <tr>\n",
              "      <th>6</th>\n",
              "      <td>0</td>\n",
              "      <td>0</td>\n",
              "      <td>59.572523</td>\n",
              "      <td>3</td>\n",
              "    </tr>\n",
              "    <tr>\n",
              "      <th>7</th>\n",
              "      <td>0</td>\n",
              "      <td>0</td>\n",
              "      <td>42.701796</td>\n",
              "      <td>1</td>\n",
              "    </tr>\n",
              "    <tr>\n",
              "      <th>8</th>\n",
              "      <td>0</td>\n",
              "      <td>0</td>\n",
              "      <td>45.251779</td>\n",
              "      <td>2</td>\n",
              "    </tr>\n",
              "    <tr>\n",
              "      <th>9</th>\n",
              "      <td>0</td>\n",
              "      <td>0</td>\n",
              "      <td>57.201961</td>\n",
              "      <td>3</td>\n",
              "    </tr>\n",
              "  </tbody>\n",
              "</table>\n",
              "</div>"
            ],
            "text/plain": [
              "   Umur (bulan)  Jenis Kelamin  Tinggi Badan (cm)  Status Gizi\n",
              "0             0              0          44.591973            2\n",
              "1             0              0          56.705203            3\n",
              "2             0              0          46.863358            0\n",
              "3             0              0          47.508026            0\n",
              "4             0              0          42.743494            1\n",
              "5             0              0          44.257719            2\n",
              "6             0              0          59.572523            3\n",
              "7             0              0          42.701796            1\n",
              "8             0              0          45.251779            2\n",
              "9             0              0          57.201961            3"
            ]
          },
          "execution_count": 68,
          "metadata": {},
          "output_type": "execute_result"
        }
      ],
      "source": [
        "df.head(10)"
      ]
    },
    {
      "cell_type": "code",
      "execution_count": 69,
      "metadata": {
        "id": "qR3wdjZR5ZVJ"
      },
      "outputs": [],
      "source": [
        "# Membagi Features and Target\n",
        "\n",
        "X = df.drop(\"Status Gizi\", axis=1)\n",
        "y = df[\"Status Gizi\"]"
      ]
    },
    {
      "cell_type": "code",
      "execution_count": 70,
      "metadata": {},
      "outputs": [
        {
          "name": "stdout",
          "output_type": "stream",
          "text": [
            "Distribusi sebelum SMOTE: Counter({0: 67755, 1: 19869, 3: 19560, 2: 13815})\n",
            "Distribusi setelah SMOTE: Counter({2: 67755, 3: 67755, 0: 67755, 1: 67755})\n"
          ]
        }
      ],
      "source": [
        "# Melakukan Oversampling\n",
        "\n",
        "print(\"Distribusi sebelum SMOTE:\", Counter(y))\n",
        "\n",
        "smote = SMOTE(sampling_strategy='auto', random_state=42)\n",
        "X_resampled, y_resampled = smote.fit_resample(X, y)\n",
        "\n",
        "df_resampled = pd.DataFrame(X_resampled, columns=X.columns)\n",
        "df_resampled[\"Status Gizi\"] = y_resampled\n",
        "\n",
        "df_resampled = pd.DataFrame(X_resampled, columns=X.columns)\n",
        "df_resampled[\"Status Gizi\"] = y_resampled\n",
        "\n",
        "print(\"Distribusi setelah SMOTE:\", Counter(y_resampled))"
      ]
    },
    {
      "cell_type": "code",
      "execution_count": 71,
      "metadata": {
        "id": "BEcUkhyn5cC9"
      },
      "outputs": [],
      "source": [
        "# Split dataset menjadi train dan test (80% training, 20% testing)\n",
        "\n",
        "X_train, X_test, y_train, y_test = train_test_split(X, y, test_size=0.2, random_state=42)"
      ]
    },
    {
      "cell_type": "markdown",
      "metadata": {},
      "source": [
        "Modeling"
      ]
    },
    {
      "cell_type": "code",
      "execution_count": 72,
      "metadata": {
        "colab": {
          "base_uri": "https://localhost:8080/",
          "height": 80
        },
        "id": "YABXin2M5dHs",
        "outputId": "3b419ae2-8415-47bc-c0ca-832bfd114392"
      },
      "outputs": [],
      "source": [
        "# Inisialisasi Model\n",
        "\n",
        "knn_model = KNeighborsClassifier(n_neighbors=5)\n",
        "rf_model = RandomForestClassifier(n_estimators=100, max_depth=10, random_state=42)\n",
        "svc_model = SVC(C=1.0, random_state=42)"
      ]
    },
    {
      "cell_type": "code",
      "execution_count": 73,
      "metadata": {},
      "outputs": [],
      "source": [
        "# Training Model\n",
        "\n",
        "y_pred_knn = knn_model.fit(X_train, y_train).predict(X_test)\n",
        "y_pred_rf = rf_model.fit(X_train, y_train).predict(X_test)\n",
        "y_pred_svc = svc_model.fit(X_train, y_train).predict(X_test)"
      ]
    },
    {
      "cell_type": "markdown",
      "metadata": {},
      "source": [
        "Evaluasi model"
      ]
    },
    {
      "cell_type": "code",
      "execution_count": 74,
      "metadata": {
        "colab": {
          "base_uri": "https://localhost:8080/"
        },
        "id": "Kmey286P-q3t",
        "outputId": "8d47e0ed-e095-481f-d68c-9f0bb2fe68f7"
      },
      "outputs": [
        {
          "name": "stdout",
          "output_type": "stream",
          "text": [
            "Akurasi Model KNN: 0.9966\n",
            "\n",
            "Classification Report:\n",
            "                   precision    recall  f1-score   support\n",
            "\n",
            "          normal       1.00      1.00      1.00     13382\n",
            "severely stunted       0.99      1.00      1.00      4130\n",
            "         stunted       0.99      0.99      0.99      2790\n",
            "          tinggi       1.00      1.00      1.00      3898\n",
            "\n",
            "        accuracy                           1.00     24200\n",
            "       macro avg       1.00      1.00      1.00     24200\n",
            "    weighted avg       1.00      1.00      1.00     24200\n",
            "\n",
            "Akurasi Model Random Forest: 0.9946\n",
            "\n",
            "Classification Report:\n",
            "                   precision    recall  f1-score   support\n",
            "\n",
            "          normal       0.99      1.00      1.00     13382\n",
            "severely stunted       1.00      1.00      1.00      4130\n",
            "         stunted       0.99      0.98      0.99      2790\n",
            "          tinggi       1.00      0.99      0.99      3898\n",
            "\n",
            "        accuracy                           0.99     24200\n",
            "       macro avg       0.99      0.99      0.99     24200\n",
            "    weighted avg       0.99      0.99      0.99     24200\n",
            "\n",
            "Akurasi Model SVM: 0.9526\n",
            "\n",
            "Classification Report:\n",
            "                   precision    recall  f1-score   support\n",
            "\n",
            "          normal       0.97      0.98      0.97     13382\n",
            "severely stunted       0.93      0.96      0.94      4130\n",
            "         stunted       0.87      0.81      0.84      2790\n",
            "          tinggi       0.98      0.96      0.97      3898\n",
            "\n",
            "        accuracy                           0.95     24200\n",
            "       macro avg       0.94      0.93      0.93     24200\n",
            "    weighted avg       0.95      0.95      0.95     24200\n",
            "\n"
          ]
        }
      ],
      "source": [
        "# Evaluasi Model Accuracy\n",
        "\n",
        "accuracy_knn = accuracy_score(y_test, y_pred_knn)\n",
        "accuracy_rf = accuracy_score(y_test, y_pred_rf)\n",
        "accuracy_svc = accuracy_score(y_test, y_pred_svc)\n",
        "\n",
        "print(f\"Akurasi Model KNN: {accuracy_knn:.4f}\")\n",
        "print(\"\\nClassification Report:\\n\", classification_report(y_test, y_pred_knn, target_names=label_encoders[\"Status Gizi\"].classes_))\n",
        "print(f\"Akurasi Model Random Forest: {accuracy_rf:.4f}\")\n",
        "print(\"\\nClassification Report:\\n\", classification_report(y_test, y_pred_rf, target_names=label_encoders[\"Status Gizi\"].classes_))\n",
        "print(f\"Akurasi Model SVM: {accuracy_svc:.4f}\")\n",
        "print(\"\\nClassification Report:\\n\", classification_report(y_test, y_pred_svc, target_names=label_encoders[\"Status Gizi\"].classes_))"
      ]
    },
    {
      "cell_type": "markdown",
      "metadata": {},
      "source": [
        "Visualisasi ROC & AUC"
      ]
    },
    {
      "cell_type": "code",
      "execution_count": 75,
      "metadata": {},
      "outputs": [
        {
          "data": {
            "image/png": "[encoded data removed]",
            "text/plain": [
              "<Figure size 800x600 with 1 Axes>"
            ]
          },
          "metadata": {},
          "output_type": "display_data"
        }
      ],
      "source": [
        "# Binarisasi label untuk multi-class ROC (One-vs-Rest)\n",
        "n_classes = len(label_encoders[\"Status Gizi\"].classes_)\n",
        "y_test_bin = label_binarize(y_test, classes=range(n_classes))\n",
        "\n",
        "# Prediksi probabilitas\n",
        "y_score_rf = rf_model.predict_proba(X_test)\n",
        "y_score_knn = knn_model.predict_proba(X_test)\n",
        "y_score_svc = svc_model.decision_function(X_test)\n",
        "\n",
        "# Menyimpan hasil ROC untuk setiap kelas\n",
        "fpr = dict()\n",
        "tpr = dict()\n",
        "roc_auc = dict()\n",
        "\n",
        "models = {'Random Forest': y_score_rf, 'KNN': y_score_knn, 'SVM': y_score_svc}\n",
        "\n",
        "# Loop untuk setiap kelas\n",
        "for model_name, y_score in models.items():\n",
        "    fpr[model_name] = {}\n",
        "    tpr[model_name] = {}\n",
        "    roc_auc[model_name] = {}\n",
        "\n",
        "    for i in range(n_classes):\n",
        "        fpr[model_name][i], tpr[model_name][i], _ = roc_curve(y_test_bin[:, i], y_score[:, i])\n",
        "        roc_auc[model_name][i] = auc(fpr[model_name][i], tpr[model_name][i])\n",
        "\n",
        "# Visualisasi ROC Curve\n",
        "plt.figure(figsize=(8, 6))\n",
        "\n",
        "colors = ['blue', 'green', 'red']\n",
        "for model_name, color in zip(models.keys(), colors):\n",
        "    plt.plot(fpr[model_name][1], tpr[model_name][1], color=color,\n",
        "             label=f'{model_name} (AUC = {roc_auc[model_name][1]:.2f})')\n",
        "\n",
        "plt.plot([0, 1], [0, 1], 'k--', label='Random Guess')\n",
        "plt.xlabel('False Positive Rate')\n",
        "plt.ylabel('True Positive Rate')\n",
        "plt.title('ROC Curve (One-vs-Rest)')\n",
        "plt.legend()\n",
        "plt.show()"
      ]
    },
    {
      "cell_type": "markdown",
      "metadata": {},
      "source": [
        "Deployment"
      ]
    },
    {
      "cell_type": "code",
      "execution_count": 76,
      "metadata": {
        "colab": {
          "base_uri": "https://localhost:8080/"
        },
        "id": "3ZqOasmYCVbX",
        "outputId": "ea06600a-1ac9-4c74-b632-a81ecd59f2b7"
      },
      "outputs": [
        {
          "name": "stdout",
          "output_type": "stream",
          "text": [
            "Model berhasil disimpan'\n"
          ]
        }
      ],
      "source": [
        "# Simpan Model\n",
        "\n",
        "joblib.dump(svc_model, \"../model/svm_model.pkl\")\n",
        "print(\"Model berhasil disimpan'\")"
      ]
    },
    {
      "cell_type": "code",
      "execution_count": 80,
      "metadata": {},
      "outputs": [],
      "source": [
        "loaded_model = joblib.load(\"../model/svm_model.pkl\")\n",
        "loaded_label_encoders = joblib.load(\"../utils/label_encoders.pkl\")"
      ]
    },
    {
      "cell_type": "code",
      "execution_count": 81,
      "metadata": {},
      "outputs": [
        {
          "name": "stdout",
          "output_type": "stream",
          "text": [
            "Prediksi Status Gizi: severely stunted\n"
          ]
        }
      ],
      "source": [
        "while True:\n",
        "    try:\n",
        "        umur = int(input(\"Masukkan umur (bulan): \"))\n",
        "        jenis_kelamin = input(\"Masukkan jenis kelamin (L/P): \").strip().upper()\n",
        "        tinggi_badan = float(input(\"Masukkan tinggi badan (cm): \"))\n",
        "        \n",
        "        if jenis_kelamin == \"L\":\n",
        "            jenis_kelamin = loaded_label_encoders[\"Jenis Kelamin\"].transform([\"laki-laki\"])[0]\n",
        "        elif jenis_kelamin == \"P\":\n",
        "            jenis_kelamin = loaded_label_encoders[\"Jenis Kelamin\"].transform([\"perempuan\"])[0]\n",
        "        else:\n",
        "            print(\"Jenis kelamin tidak valid. Gunakan 'L' atau 'P'.\")\n",
        "            continue\n",
        "        \n",
        "        input_data = pd.DataFrame([[umur, jenis_kelamin, tinggi_badan]], columns=[\"Umur (bulan)\", \"Jenis Kelamin\", \"Tinggi Badan (cm)\"])\n",
        "        prediksi = loaded_model.predict(input_data)[0]\n",
        "        status_gizi = loaded_label_encoders[\"Status Gizi\"].inverse_transform([prediksi])[0]\n",
        "        \n",
        "        print(f\"Prediksi Status Gizi: {status_gizi}\")\n",
        "    except Exception as e:\n",
        "        print(f\"Terjadi kesalahan: {e}\")\n",
        "    \n",
        "    ulang = input(\"Ingin menginput data lagi? (y/n): \").strip().lower()\n",
        "    if ulang != 'y':\n",
        "        break\n"
      ]
    }
  ],
  "metadata": {
    "colab": {
      "provenance": []
    },
    "kernelspec": {
      "display_name": "Python 3",
      "name": "python3"
    },
    "language_info": {
      "codemirror_mode": {
        "name": "ipython",
        "version": 3
      },
      "file_extension": ".py",
      "mimetype": "text/x-python",
      "name": "python",
      "nbconvert_exporter": "python",
      "pygments_lexer": "ipython3",
      "version": "3.10.8"
    }
  },
  "nbformat": 4,
  "nbformat_minor": 0
}
